{
 "cells": [
  {
   "cell_type": "code",
   "execution_count": 13,
   "id": "355ecfa1-74f9-4671-b3a0-afaebe834b8e",
   "metadata": {},
   "outputs": [],
   "source": [
    "from pytorch_grad_cam import ScoreCAM\n",
    "from pytorch_grad_cam.utils.model_targets import ClassifierOutputTarget\n",
    "from pytorch_grad_cam.utils.image import show_cam_on_image\n",
    "from torchvision.models import resnet50\n",
    "import cv2\n",
    "from torchvision import transforms\n",
    "import torch\n",
    "\n",
    "from transformer import TransformerEncoder\n",
    "from model_config import get_config\n",
    "from model import mobile_vit_xx_small"
   ]
  },
  {
   "cell_type": "code",
   "execution_count": 14,
   "id": "a50cf36d-74d8-4263-8a18-c6cd69214559",
   "metadata": {},
   "outputs": [
    {
     "name": "stdout",
     "output_type": "stream",
     "text": [
      "/root/miniconda3/envs/py38/lib/python38.zip\n",
      "/root/miniconda3/envs/py38/lib/python3.8\n",
      "/root/miniconda3/envs/py38/lib/python3.8/lib-dynload\n",
      "\n",
      "/root/miniconda3/envs/py38/lib/python3.8/site-packages\n",
      "/root/autodl-tmp/CAM/SWE/MobileViT_xx_s/\n"
     ]
    }
   ],
   "source": [
    "import sys\n",
    "import os\n",
    "\n",
    "# 打印 sys.path 的内容\n",
    "for path in sys.path:\n",
    "    print(path)"
   ]
  },
  {
   "cell_type": "code",
   "execution_count": 15,
   "id": "0dfe2b9b-1b02-4403-9447-91bdc55821bf",
   "metadata": {},
   "outputs": [],
   "source": [
    "# 将路径从 sys.path删除\n",
    "# sys.path.remove('/root/autodl-tmp/CAM/SWE/MobileViT_xx_s/Score-CAM')"
   ]
  },
  {
   "cell_type": "code",
   "execution_count": 16,
   "id": "5af87340-44b0-419f-9484-b58efbe5641b",
   "metadata": {},
   "outputs": [],
   "source": [
    "# 将路径添加到 sys.path\n",
    "# sys.path.append('/root/autodl-tmp/CAM/SWE/MobileViT_xx_s/')"
   ]
  },
  {
   "cell_type": "code",
   "execution_count": 17,
   "id": "2fba61cc-355e-4fc3-a73c-6159138b1771",
   "metadata": {},
   "outputs": [],
   "source": [
    "# 读取图片，处理为224，转换为RGB\n",
    "image = cv2.imread(\"/root/autodl-tmp/CAM/US/imgs/benign/US_benign.png\") # 204, 328, 3\n",
    "image_224 = cv2.resize(image, (224, 224), interpolation=cv2.INTER_LINEAR) # 长宽转换为224 \n",
    "image_224 = cv2.cvtColor(image_224, cv2.COLOR_BGR2RGB) # BGR转换为RGB\n",
    "\n",
    "image_224_4cover = image_224 # 后面覆盖此图\n",
    "\n",
    "blurred_image_224 = cv2.GaussianBlur(image_224, (5, 5), 0)\n",
    "\n",
    "data_transform = transforms.Compose([transforms.ToTensor()])\n",
    "image_tensor = data_transform(image_224)\n",
    "\n",
    "input_tensor = torch.unsqueeze(image_tensor, dim=0) # 最终形状：[1, 3, 224, 224]\n",
    "\n",
    "# 输出1：image_224_4cover（后面覆盖此图）\n",
    "# 输出2：input_tensor（cam实例里面用）"
   ]
  },
  {
   "cell_type": "code",
   "execution_count": 18,
   "id": "bcc14389-7424-418e-b15c-d1b6bd0aaeab",
   "metadata": {},
   "outputs": [
    {
     "name": "stderr",
     "output_type": "stream",
     "text": [
      "/tmp/ipykernel_3107/292168500.py:2: FutureWarning: You are using `torch.load` with `weights_only=False` (the current default value), which uses the default pickle module implicitly. It is possible to construct malicious pickle data which will execute arbitrary code during unpickling (See https://github.com/pytorch/pytorch/blob/main/SECURITY.md#untrusted-models for more details). In a future release, the default value for `weights_only` will be flipped to `True`. This limits the functions that could be executed during unpickling. Arbitrary objects will no longer be allowed to be loaded via this mode unless they are explicitly allowlisted by the user via `torch.serialization.add_safe_globals`. We recommend you start setting `weights_only=True` for any use case where you don't have full control of the loaded file. Please open an issue on GitHub for any issues related to this experimental feature.\n",
      "  model.load_state_dict(torch.load(\"/root/autodl-tmp/CAM/SWE/MobileViT_xx_s/MobileViT_xx_s.pth\"))\n",
      "100%|██████████| 5/5 [00:00<00:00, 10.42it/s]\n",
      "100%|██████████| 5/5 [00:00<00:00, 10.04it/s]\n"
     ]
    },
    {
     "data": {
      "text/plain": [
       "True"
      ]
     },
     "execution_count": 18,
     "metadata": {},
     "output_type": "execute_result"
    }
   ],
   "source": [
    "model = mobile_vit_xx_small(num_classes = 1)\n",
    "model.load_state_dict(torch.load(\"/root/autodl-tmp/CAM/US/MobileViT_xx_s/MobileViT_xx_s.pth\"))\n",
    "\n",
    "target_layers=model.layer_5\n",
    "\n",
    "cam = ScoreCAM(model=model, target_layers=target_layers)\n",
    "targets = None\n",
    "c = cam(input_tensor=input_tensor, targets=targets)\n",
    "c = c.transpose(1, 2, 0)\n",
    "\n",
    "# image_224_4cover和c需要将channel放最后一个，因为这一步函数内置的要求 heatmap = cv2.applyColorMap(np.uint8(255 * mask), cv2.COLORMAP_JET)\n",
    "visualization = show_cam_on_image(image_224_4cover / 255., c, use_rgb=True)\n",
    "cv2.imwrite('/root/autodl-tmp/CAM/US/MobileViT_xx_s/Score-CAM/benign/US_benign.png', visualization)"
   ]
  },
  {
   "cell_type": "code",
   "execution_count": null,
   "id": "a774d7a2-3223-4ffe-957f-33caa7382e29",
   "metadata": {},
   "outputs": [],
   "source": []
  },
  {
   "cell_type": "code",
   "execution_count": null,
   "id": "8e2f9e25-9620-4510-aaad-4dabbe8b4a31",
   "metadata": {},
   "outputs": [],
   "source": []
  },
  {
   "cell_type": "code",
   "execution_count": null,
   "id": "84d66e9e-7e29-4dc8-9503-b4ec53180a43",
   "metadata": {},
   "outputs": [],
   "source": []
  },
  {
   "cell_type": "code",
   "execution_count": 23,
   "id": "868d5a50-0703-4f5a-8e67-ebac51f20a77",
   "metadata": {},
   "outputs": [
    {
     "name": "stdout",
     "output_type": "stream",
     "text": [
      "torch.Size([224, 224, 1])\n"
     ]
    }
   ],
   "source": [
    "# 之前遇到的一个bug的解决方案：mask的channel要放最后一个\n",
    "import numpy as np\n",
    "mask = torch.rand((224,224,1))\n",
    "print(mask.shape)\n",
    "heatmap = cv2.applyColorMap(np.uint8(255 * mask), cv2.COLORMAP_JET)"
   ]
  },
  {
   "cell_type": "code",
   "execution_count": null,
   "id": "7ae63d81-a67a-4108-b346-1080c717c0c5",
   "metadata": {},
   "outputs": [],
   "source": []
  },
  {
   "cell_type": "code",
   "execution_count": null,
   "id": "e4892b63-b2b3-4b79-b37e-2cfd68e61f98",
   "metadata": {},
   "outputs": [],
   "source": []
  }
 ],
 "metadata": {
  "kernelspec": {
   "display_name": "py38",
   "language": "python",
   "name": "py38"
  },
  "language_info": {
   "codemirror_mode": {
    "name": "ipython",
    "version": 3
   },
   "file_extension": ".py",
   "mimetype": "text/x-python",
   "name": "python",
   "nbconvert_exporter": "python",
   "pygments_lexer": "ipython3",
   "version": "3.8.19"
  }
 },
 "nbformat": 4,
 "nbformat_minor": 5
}
