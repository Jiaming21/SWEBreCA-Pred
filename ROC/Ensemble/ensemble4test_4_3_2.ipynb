{
 "cells": [
  {
   "cell_type": "code",
   "execution_count": 2,
   "id": "3b95a0b9-f5ff-4b3d-99f8-a1aba6dd25eb",
   "metadata": {},
   "outputs": [],
   "source": [
    "# current strategy for ensemble: \n",
    "# all for testing set\n",
    "# SWE：GoogLeNet (SWE) (0.9638)\n",
    "# US：AlexNet (US) (0.9430)\n",
    "# RE-SWE：ViT (0.9676)\n",
    "# RE-US：DenseNet-161 (RE-US) (0.8981)"
   ]
  },
  {
   "cell_type": "code",
   "execution_count": 9,
   "id": "4967893e-5b8c-4daf-bf04-cd286b81ec67",
   "metadata": {},
   "outputs": [],
   "source": [
    "import matplotlib.pyplot as plt\n",
    "import numpy as np\n",
    "import torch\n",
    "import torch.nn as nn\n",
    "import pandas as pd\n",
    "import numpy as np\n",
    "from sklearn.model_selection import train_test_split\n",
    "from torch.utils.data import DataLoader\n",
    "import time\n",
    "from torch.utils.data import Subset\n",
    "from sklearn.metrics import roc_auc_score, accuracy_score, matthews_corrcoef, recall_score, precision_score,auc\n",
    "import time\n",
    "from sklearn.metrics import roc_curve\n",
    "import pandas as pd"
   ]
  },
  {
   "cell_type": "code",
   "execution_count": 10,
   "id": "4433dbee-4b9e-4ec7-ba9b-5c41dec84303",
   "metadata": {},
   "outputs": [],
   "source": [
    "y_test_googlenet_SWE = np.load('/root/autodl-tmp/ROC/SWE/GoogLeNet/y_test.npy')\n",
    "y_test_alexnet_US = np.load('/root/autodl-tmp/ROC/US/AlexNet/y_test.npy')\n",
    "y_test_vit_RE_SWE = np.load('/root/autodl-tmp/ROC/RE-SWE/ViT/y_test.npy')\n",
    "y_test_denseNet_161_RE_US = np.load('/root/autodl-tmp/ROC/RE-US/DenseNet-161/y_test.npy')\n",
    "\n",
    "y_test = y_test_googlenet_SWE"
   ]
  },
  {
   "cell_type": "code",
   "execution_count": 11,
   "id": "369feed4-756e-400a-81c7-d5207129b211",
   "metadata": {},
   "outputs": [
    {
     "data": {
      "text/plain": [
       "array([1., 0., 1., 1., 0., 0., 1., 0., 0., 1., 1., 1., 1., 0., 0., 0., 0.,\n",
       "       1., 0., 1., 0., 0., 1., 1., 1., 1., 0., 0., 0., 1., 1., 0., 1., 0.,\n",
       "       0., 1., 0., 0., 0., 1., 0., 1., 0., 0., 1., 1., 0., 0., 1., 1., 0.,\n",
       "       1., 0., 1., 1., 1., 1., 0., 0., 1., 1., 1., 0., 0., 1., 0., 1., 1.,\n",
       "       0., 1., 0., 0., 1., 1., 0., 1., 0., 0., 1., 0., 0., 1., 1., 1., 0.,\n",
       "       1., 1., 1., 0., 1., 1., 0., 0.])"
      ]
     },
     "execution_count": 11,
     "metadata": {},
     "output_type": "execute_result"
    }
   ],
   "source": [
    "y_test_googlenet_SWE.reshape(-1)"
   ]
  },
  {
   "cell_type": "code",
   "execution_count": 12,
   "id": "6c9a1507-0f16-4efc-9f2b-4c739f4f35ca",
   "metadata": {},
   "outputs": [
    {
     "data": {
      "text/plain": [
       "array([1., 1., 1., 0., 0., 1., 1., 0., 0., 0., 1., 0., 0., 0., 0., 0., 1.,\n",
       "       1., 0., 1., 1., 1., 0., 1., 0., 0., 0., 0., 1., 1., 0., 0., 0., 1.,\n",
       "       0., 1., 1., 1., 1., 1., 0., 1., 0., 0., 1., 1., 1., 1., 1., 0., 0.,\n",
       "       0., 1., 1., 0., 0., 0., 0., 0., 1., 1., 1., 1., 0., 0., 0., 0., 1.,\n",
       "       1., 1., 1., 1., 1., 0., 0., 1., 0., 1., 0., 0., 0., 0., 0., 0., 1.,\n",
       "       0., 1., 0., 0., 1., 1., 0., 1.])"
      ]
     },
     "execution_count": 12,
     "metadata": {},
     "output_type": "execute_result"
    }
   ],
   "source": [
    "y_test_alexnet_US.reshape(-1)"
   ]
  },
  {
   "cell_type": "code",
   "execution_count": 13,
   "id": "a392101a-a889-4e5b-9107-b8377e278cd9",
   "metadata": {},
   "outputs": [
    {
     "data": {
      "text/plain": [
       "array([0., 1., 1., 0., 0., 1., 0., 1., 1., 1., 0., 1., 0., 1., 0., 0., 0.,\n",
       "       1., 0., 0., 0., 1., 1., 0., 1., 0., 0., 1., 0., 1., 0., 1., 0., 1.,\n",
       "       1., 1., 0., 0., 0., 0., 1., 1., 1., 1., 1., 0., 1., 0., 0., 1., 1.,\n",
       "       0., 0., 1., 1., 0., 0., 1., 1., 1., 0., 0., 1., 1., 0., 1., 0., 0.,\n",
       "       1., 1., 0., 1., 0., 0., 0., 1., 1., 0., 1., 1., 0., 0., 0., 1., 0.,\n",
       "       0., 0., 1., 1., 1., 1., 0., 1.])"
      ]
     },
     "execution_count": 13,
     "metadata": {},
     "output_type": "execute_result"
    }
   ],
   "source": [
    "y_test_vit_RE_SWE.reshape(-1)"
   ]
  },
  {
   "cell_type": "code",
   "execution_count": 14,
   "id": "aaaeda49-2f32-4ddb-bbb1-f4a2249943c3",
   "metadata": {},
   "outputs": [
    {
     "data": {
      "text/plain": [
       "array([0., 0., 1., 0., 1., 0., 1., 0., 0., 0., 1., 0., 1., 0., 0., 0., 0.,\n",
       "       1., 0., 1., 1., 1., 1., 1., 0., 1., 1., 1., 0., 1., 0., 1., 0., 0.,\n",
       "       0., 0., 1., 1., 0., 1., 1., 0., 0., 1., 1., 1., 0., 1., 0., 1., 1.,\n",
       "       0., 1., 1., 0., 0., 0., 1., 1., 1., 0., 1., 1., 1., 0., 0., 1., 0.,\n",
       "       1., 1., 0., 1., 1., 0., 1., 0., 0., 1., 1., 1., 1., 1., 1., 1., 0.,\n",
       "       1., 1., 0., 0., 0., 0., 0., 1.])"
      ]
     },
     "execution_count": 14,
     "metadata": {},
     "output_type": "execute_result"
    }
   ],
   "source": [
    "y_test_denseNet_161_RE_US.reshape(-1)"
   ]
  },
  {
   "cell_type": "code",
   "execution_count": 15,
   "id": "e3d1cfca-607b-4643-bdd0-ebda08297c50",
   "metadata": {},
   "outputs": [],
   "source": [
    "y_test_pred_googlenet_SWE = np.load('/root/autodl-tmp/ROC/SWE/GoogLeNet/y_test_pred.npy')\n",
    "y_test_pred_alexnet_US = np.load('/root/autodl-tmp/ROC/US/AlexNet/y_test_pred.npy')\n",
    "y_test_pred_vit_RE_SWE = np.load('/root/autodl-tmp/ROC/RE-SWE/ViT/y_test_pred.npy')\n",
    "y_test_pred_denseNet_161_RE_US = np.load('/root/autodl-tmp/ROC/RE-US/DenseNet-161/y_test_pred.npy')"
   ]
  },
  {
   "cell_type": "code",
   "execution_count": 16,
   "id": "b193c1dd-181a-481a-afee-7d60fdb08989",
   "metadata": {},
   "outputs": [],
   "source": [
    "### 4: SWE + US + RE-SWE + RE-US"
   ]
  },
  {
   "cell_type": "code",
   "execution_count": 17,
   "id": "06419ee6-2a6a-4276-9ed0-2a19e75fe8c9",
   "metadata": {},
   "outputs": [
    {
     "data": {
      "text/plain": [
       "0.6671296296296296"
      ]
     },
     "execution_count": 17,
     "metadata": {},
     "output_type": "execute_result"
    }
   ],
   "source": [
    "y_pred1 = np.array((np.array(y_test_pred_googlenet_SWE).reshape(-1) + \n",
    "                   np.array(y_test_pred_alexnet_US).reshape(-1) +\n",
    "                   np.array(y_test_pred_vit_RE_SWE).reshape(-1) + \n",
    "                   np.array(y_test_pred_denseNet_161_RE_US).reshape(-1)\n",
    "                   ) / 4)\n",
    "y_label = np.array(y_test)\n",
    "fpr1, tpr1, _ = roc_curve(y_label, y_pred1)\n",
    "roc_auc1 = auc(fpr1, tpr1)\n",
    "roc_auc1"
   ]
  },
  {
   "cell_type": "code",
   "execution_count": 18,
   "id": "f11c71a6-e572-4cf6-8139-9d0defa90a65",
   "metadata": {},
   "outputs": [],
   "source": [
    "### 3: SWE + US + RE-SWE"
   ]
  },
  {
   "cell_type": "code",
   "execution_count": 19,
   "id": "d5aecaad-8301-47a9-b2ca-9d61653f24ad",
   "metadata": {},
   "outputs": [
    {
     "data": {
      "text/plain": [
       "0.7027777777777778"
      ]
     },
     "execution_count": 19,
     "metadata": {},
     "output_type": "execute_result"
    }
   ],
   "source": [
    "y_pred2 = np.array((np.array(y_test_pred_googlenet_SWE).reshape(-1) + \n",
    "                   np.array(y_test_pred_alexnet_US).reshape(-1) +\n",
    "                   np.array(y_test_pred_vit_RE_SWE).reshape(-1)\n",
    "                   ) / 3)\n",
    "y_label = np.array(y_test)\n",
    "fpr2, tpr2, _ = roc_curve(y_label, y_pred2)\n",
    "roc_auc2 = auc(fpr2, tpr2)\n",
    "roc_auc2"
   ]
  },
  {
   "cell_type": "code",
   "execution_count": 20,
   "id": "5a8ddcc2-b4e9-4cce-92fa-9193d6c9583b",
   "metadata": {},
   "outputs": [],
   "source": [
    "### 3: SWE + US + RE-US"
   ]
  },
  {
   "cell_type": "code",
   "execution_count": 21,
   "id": "41dc0d6e-35f6-4d0c-8ee2-0a5a6310f83e",
   "metadata": {},
   "outputs": [
    {
     "data": {
      "text/plain": [
       "0.7074074074074075"
      ]
     },
     "execution_count": 21,
     "metadata": {},
     "output_type": "execute_result"
    }
   ],
   "source": [
    "y_pred3 = np.array((np.array(y_test_pred_googlenet_SWE).reshape(-1) + \n",
    "                   np.array(y_test_pred_alexnet_US).reshape(-1) +\n",
    "                   np.array(y_test_pred_denseNet_161_RE_US).reshape(-1)\n",
    "                   ) / 3)\n",
    "y_label = np.array(y_test)\n",
    "fpr3, tpr3, _ = roc_curve(y_label, y_pred3)\n",
    "roc_auc3 = auc(fpr3, tpr3)\n",
    "roc_auc3"
   ]
  },
  {
   "cell_type": "code",
   "execution_count": 22,
   "id": "342e8728-c2ac-4835-ba1d-884976425875",
   "metadata": {},
   "outputs": [],
   "source": [
    "### 3: SWE + RE-SWE + RE-US"
   ]
  },
  {
   "cell_type": "code",
   "execution_count": 23,
   "id": "63ad2d32-1a5b-4f41-afe6-5654b5a2248c",
   "metadata": {},
   "outputs": [
    {
     "data": {
      "text/plain": [
       "0.6356481481481482"
      ]
     },
     "execution_count": 23,
     "metadata": {},
     "output_type": "execute_result"
    }
   ],
   "source": [
    "y_pred4 = np.array((np.array(y_test_pred_googlenet_SWE).reshape(-1) + \n",
    "                   np.array(y_test_pred_vit_RE_SWE).reshape(-1) + \n",
    "                   np.array(y_test_pred_denseNet_161_RE_US).reshape(-1)\n",
    "                   ) / 3)\n",
    "y_label = np.array(y_test)\n",
    "fpr4, tpr4, _ = roc_curve(y_label, y_pred4)\n",
    "roc_auc4 = auc(fpr4, tpr4)\n",
    "roc_auc4"
   ]
  },
  {
   "cell_type": "code",
   "execution_count": 24,
   "id": "32366493-ef4c-4bd5-835e-af461d4fe4c8",
   "metadata": {},
   "outputs": [],
   "source": [
    "### 3: US + RE-SWE + RE-US"
   ]
  },
  {
   "cell_type": "code",
   "execution_count": 25,
   "id": "5877d158-bb2b-4595-bae7-21c9ffe5630b",
   "metadata": {},
   "outputs": [
    {
     "data": {
      "text/plain": [
       "0.5189814814814815"
      ]
     },
     "execution_count": 25,
     "metadata": {},
     "output_type": "execute_result"
    }
   ],
   "source": [
    "y_pred5 = np.array((np.array(y_test_pred_alexnet_US).reshape(-1) +\n",
    "                   np.array(y_test_pred_vit_RE_SWE).reshape(-1) + \n",
    "                   np.array(y_test_pred_denseNet_161_RE_US).reshape(-1)\n",
    "                   ) / 3)\n",
    "y_label = np.array(y_test)\n",
    "fpr5, tpr5, _ = roc_curve(y_label, y_pred5)\n",
    "roc_auc5 = auc(fpr5, tpr5)\n",
    "roc_auc5"
   ]
  },
  {
   "cell_type": "code",
   "execution_count": 26,
   "id": "afa43033-62cb-4c6f-963d-916e5172b625",
   "metadata": {},
   "outputs": [],
   "source": [
    "### 2: SWE + US"
   ]
  },
  {
   "cell_type": "code",
   "execution_count": 27,
   "id": "3d055bf3-e743-4d5a-a270-30d41304d99c",
   "metadata": {},
   "outputs": [
    {
     "data": {
      "text/plain": [
       "0.8013888888888888"
      ]
     },
     "execution_count": 27,
     "metadata": {},
     "output_type": "execute_result"
    }
   ],
   "source": [
    "y_pred6 = np.array((np.array(y_test_pred_googlenet_SWE).reshape(-1) + \n",
    "                   np.array(y_test_pred_alexnet_US).reshape(-1)\n",
    "                   ) / 2)\n",
    "y_label = np.array(y_test)\n",
    "fpr6, tpr6, _ = roc_curve(y_label, y_pred6)\n",
    "roc_auc6 = auc(fpr6, tpr6)\n",
    "roc_auc6"
   ]
  },
  {
   "cell_type": "code",
   "execution_count": 28,
   "id": "1813bfe7-733d-482a-92c9-123f0bd71299",
   "metadata": {},
   "outputs": [],
   "source": [
    "### 2: SWE + RE-SWE"
   ]
  },
  {
   "cell_type": "code",
   "execution_count": 29,
   "id": "de9db624-0857-4bba-b372-960fe34f8aee",
   "metadata": {},
   "outputs": [
    {
     "data": {
      "text/plain": [
       "0.6842592592592593"
      ]
     },
     "execution_count": 29,
     "metadata": {},
     "output_type": "execute_result"
    }
   ],
   "source": [
    "y_pred7 = np.array((np.array(y_test_pred_googlenet_SWE).reshape(-1) + \n",
    "                   np.array(y_test_pred_vit_RE_SWE).reshape(-1)\n",
    "                   ) / 2)\n",
    "y_label = np.array(y_test)\n",
    "fpr7, tpr7, _ = roc_curve(y_label, y_pred7)\n",
    "roc_auc7 = auc(fpr7, tpr7)\n",
    "roc_auc7"
   ]
  },
  {
   "cell_type": "code",
   "execution_count": 30,
   "id": "6ca12606-68bf-4c60-819f-102cbc3c982e",
   "metadata": {},
   "outputs": [],
   "source": [
    "### 2: SWE + RE-US"
   ]
  },
  {
   "cell_type": "code",
   "execution_count": 31,
   "id": "5296b172-278c-451d-8a2a-8d1bbc4c532b",
   "metadata": {},
   "outputs": [
    {
     "data": {
      "text/plain": [
       "0.7092592592592593"
      ]
     },
     "execution_count": 31,
     "metadata": {},
     "output_type": "execute_result"
    }
   ],
   "source": [
    "y_pred8 = np.array((np.array(y_test_pred_googlenet_SWE).reshape(-1) +\n",
    "                   np.array(y_test_pred_denseNet_161_RE_US).reshape(-1)\n",
    "                   ) / 2)\n",
    "y_label = np.array(y_test)\n",
    "fpr8, tpr8, _ = roc_curve(y_label, y_pred8)\n",
    "roc_auc8 = auc(fpr8, tpr8)\n",
    "roc_auc8"
   ]
  },
  {
   "cell_type": "code",
   "execution_count": 32,
   "id": "4ff1bcb9-3843-4799-b240-d166bfd79f1b",
   "metadata": {},
   "outputs": [],
   "source": [
    "### 2: US + RE-SWE"
   ]
  },
  {
   "cell_type": "code",
   "execution_count": 33,
   "id": "fcc1cbdc-43ed-454f-83b1-cad1c8b1917d",
   "metadata": {},
   "outputs": [
    {
     "data": {
      "text/plain": [
       "0.5078703703703704"
      ]
     },
     "execution_count": 33,
     "metadata": {},
     "output_type": "execute_result"
    }
   ],
   "source": [
    "y_pred9 = np.array((np.array(y_test_pred_alexnet_US).reshape(-1) +\n",
    "                   np.array(y_test_pred_vit_RE_SWE).reshape(-1)\n",
    "                   ) / 2)\n",
    "y_label = np.array(y_test)\n",
    "fpr9, tpr9, _ = roc_curve(y_label, y_pred9)\n",
    "roc_auc9 = auc(fpr9, tpr9)\n",
    "roc_auc9"
   ]
  },
  {
   "cell_type": "code",
   "execution_count": 34,
   "id": "8a2c730a-3ab9-4fad-a654-10d6bd7a77b9",
   "metadata": {},
   "outputs": [],
   "source": [
    "### 2: US + RE-US"
   ]
  },
  {
   "cell_type": "code",
   "execution_count": 35,
   "id": "59c9e5b6-d1fb-4688-81f7-7a784fd48e73",
   "metadata": {},
   "outputs": [
    {
     "data": {
      "text/plain": [
       "0.5541666666666667"
      ]
     },
     "execution_count": 35,
     "metadata": {},
     "output_type": "execute_result"
    }
   ],
   "source": [
    "y_pred10 = np.array((np.array(y_test_pred_alexnet_US).reshape(-1) +\n",
    "                   np.array(y_test_pred_denseNet_161_RE_US).reshape(-1)\n",
    "                   ) / 2)\n",
    "\n",
    "y_label = np.array(y_test)\n",
    "fpr10, tpr10, _ = roc_curve(y_label, y_pred10)\n",
    "roc_auc10 = auc(fpr10, tpr10)\n",
    "roc_auc10"
   ]
  },
  {
   "cell_type": "code",
   "execution_count": 36,
   "id": "73a9e6d7-4518-4e90-be5f-9376a50f9cb9",
   "metadata": {},
   "outputs": [],
   "source": [
    "### 2: RE-SWE + RE-US"
   ]
  },
  {
   "cell_type": "code",
   "execution_count": 37,
   "id": "097ee7e3-28ab-4167-a6f8-4b2194cf66d9",
   "metadata": {},
   "outputs": [
    {
     "data": {
      "text/plain": [
       "0.4722222222222222"
      ]
     },
     "execution_count": 37,
     "metadata": {},
     "output_type": "execute_result"
    }
   ],
   "source": [
    "y_pred11 = np.array((np.array(y_test_pred_vit_RE_SWE).reshape(-1) + \n",
    "                   np.array(y_test_pred_denseNet_161_RE_US).reshape(-1)\n",
    "                   ) / 2)\n",
    "y_label = np.array(y_test)\n",
    "fpr11, tpr11, _ = roc_curve(y_label, y_pred11)\n",
    "roc_auc11 = auc(fpr11, tpr11)\n",
    "roc_auc11"
   ]
  },
  {
   "cell_type": "code",
   "execution_count": 38,
   "id": "c4ec0a99-c96e-4eb5-9b0a-60ca9788961b",
   "metadata": {},
   "outputs": [
    {
     "data": {
      "image/png": "[encoded data removed]",
      "text/plain": [
       "<Figure size 600x500 with 1 Axes>"
      ]
     },
     "metadata": {},
     "output_type": "display_data"
    }
   ],
   "source": [
    "plt.figure(figsize=(6, 5))\n",
    "lw = 2\n",
    "\n",
    "plt.plot(\n",
    "    fpr1,\n",
    "    tpr1,\n",
    "    color=\"royalblue\",\n",
    "    lw=lw,\n",
    "    label=f\"4: SWE + US + RE-SWE + RE-US ({roc_auc1:.4f})\"\n",
    ")\n",
    "\n",
    "plt.plot(\n",
    "    fpr2,\n",
    "    tpr2,\n",
    "    color=\"forestgreen\",\n",
    "    lw=lw,\n",
    "    label=f\"3: SWE + US + RE-SWE ({roc_auc2:.4f})\"\n",
    ")\n",
    "\n",
    "plt.plot(\n",
    "    fpr3,\n",
    "    tpr3,\n",
    "    color=\"darkorange\",\n",
    "    lw=lw,\n",
    "    label=f\"3: SWE + US + RE-US ({roc_auc3:.4f})\"\n",
    ")\n",
    "\n",
    "plt.plot(\n",
    "    fpr4,\n",
    "    tpr4,\n",
    "    color=\"mediumpurple\",\n",
    "    lw=lw,\n",
    "    label=f\"3: US + RE-SWE + RE-US ({roc_auc4:.4f})\"\n",
    ")\n",
    "\n",
    "plt.plot(\n",
    "    fpr5,\n",
    "    tpr5,\n",
    "    color=\"brown\",\n",
    "    lw=lw,\n",
    "    label=f\"3: US + RE-SWE + RE-US ({roc_auc5:.4f})\"\n",
    ")\n",
    "\n",
    "plt.plot(\n",
    "    fpr6,\n",
    "    tpr6,\n",
    "    color=\"pink\",\n",
    "    lw=lw,\n",
    "    label=f\"2: SWE + US ({roc_auc6:.4f})\"\n",
    ")\n",
    "\n",
    "plt.plot(\n",
    "    fpr7,\n",
    "    tpr7,\n",
    "    color=\"tomato\",\n",
    "    lw=lw,\n",
    "    label=f\"2: SWE + RE-SWE ({roc_auc7:.4f})\"\n",
    ")\n",
    "\n",
    "plt.plot(\n",
    "    fpr8,\n",
    "    tpr8,\n",
    "    color=\"slateblue\", \n",
    "    lw=lw,\n",
    "    label=f\"2: SWE + RE-US ({roc_auc8:.4f})\"\n",
    ")\n",
    "\n",
    "plt.plot(\n",
    "    fpr9,\n",
    "    tpr9,\n",
    "    color=\"goldenrod\", \n",
    "    lw=lw,\n",
    "    label=f\"2: US + RE-SWE ({roc_auc9:.4f})\"\n",
    ")\n",
    "\n",
    "plt.plot(\n",
    "    fpr10,\n",
    "    tpr10,\n",
    "    color=\"grey\",  \n",
    "    lw=lw,\n",
    "    label=f\"2: US + RE-US ({roc_auc10:.4f})\"\n",
    ")\n",
    "\n",
    "plt.plot(\n",
    "    fpr11,\n",
    "    tpr11,\n",
    "    color=\"crimson\", \n",
    "    lw=lw,\n",
    "    label=f\"2: RE-SWE + RE-US ({roc_auc11:.4f})\"\n",
    ")\n",
    "\n",
    "# font1 = {'family' : 'Arial',\n",
    "# 'weight' : 'bold',\n",
    "# 'size' : 15,\n",
    "# }\n",
    "# font2 = {'family' : 'Arial',\n",
    "# 'weight' : 'normal',\n",
    "# 'size' : 13,\n",
    "# }\n",
    "\n",
    "# 安装microsoft字体, 包含Arial（in linux）\n",
    "# sudo apt-get install ttf-mscorefonts-installer\n",
    "# sudo fc-cache -fv\n",
    "# cd /root/.cache/matplotlib\n",
    "# rm fontlist-v330.json\n",
    "\n",
    "plt.plot([0, 1], [0, 1], color=\"navy\", lw=lw, linestyle=\"--\")\n",
    "plt.xlim([0.0, 1.0])\n",
    "plt.ylim([0.0, 1.05])\n",
    "#plt.xlabel(\"1 - Specificity (False Positive Rate)\", font2)\n",
    "plt.xlabel(\"1 - Specificity (False Positive Rate)\") # findfont: Font family 'Arial' not found.\n",
    "\n",
    "#plt.ylabel(\"Sensitivity (True Positive Rate)\", font2)\n",
    "plt.ylabel(\"Sensitivity (True Positive Rate)\")\n",
    "\n",
    "#plt.title(\"Roc Curves under Independent Test (Ensemble)\", font1)\n",
    "plt.title(\"Roc Curves under Independent Test (Ensemble)\")\n",
    "\n",
    "plt.legend(loc=\"lower right\", prop={'size': 5.3})  # 使用具体的数值设置 #xx-small -> 6pt\n",
    "plt.savefig('/root/autodl-tmp/ROC/Ensemble/ensemble.svg', format='svg')"
   ]
  },
  {
   "cell_type": "code",
   "execution_count": 39,
   "id": "57676bf0-b50e-43dc-82d2-e8b8a3a7b778",
   "metadata": {},
   "outputs": [],
   "source": [
    "data = np.column_stack((\n",
    "    y_test,\n",
    "    y_pred1,\n",
    "    y_pred2,\n",
    "    y_pred3,\n",
    "    y_pred4,\n",
    "    y_pred5,\n",
    "    y_pred6,\n",
    "    y_pred7,\n",
    "    y_pred8,\n",
    "    y_pred9,\n",
    "    y_pred10,\n",
    "    y_pred11\n",
    "))\n",
    "\n",
    "header = (\n",
    "    'y, '\n",
    "    '4: SWE + US + RE-SWE + RE-US, '\n",
    "    '3: SWE + US + RE-SWE, '\n",
    "    '3: SWE + US + RE-US, '\n",
    "    '3: SWE + RE-SWE + RE-US, '\n",
    "    '3: US) + RE-SWE + RE-US, '\n",
    "    '2: SWE + US, '\n",
    "    '2: SWE + RE-SWE, '\n",
    "    '2: SWE + RE-US, '\n",
    "    '2: US + RE-SWE, '\n",
    "    '2: US + RE-US, '\n",
    "    '2: RE-SWE + RE-US'\n",
    ")\n",
    "\n",
    "np.savetxt(\n",
    "    'ROC4Ensemble.csv',\n",
    "    data,\n",
    "    delimiter=',',\n",
    "    header=header,\n",
    "    comments=''\n",
    ")\n"
   ]
  },
  {
   "cell_type": "code",
   "execution_count": null,
   "id": "f006ad6c-fd37-4158-8ecf-207d7edb9abe",
   "metadata": {},
   "outputs": [],
   "source": []
  }
 ],
 "metadata": {
  "kernelspec": {
   "display_name": "py38",
   "language": "python",
   "name": "py38"
  },
  "language_info": {
   "codemirror_mode": {
    "name": "ipython",
    "version": 3
   },
   "file_extension": ".py",
   "mimetype": "text/x-python",
   "name": "python",
   "nbconvert_exporter": "python",
   "pygments_lexer": "ipython3",
   "version": "3.8.19"
  }
 },
 "nbformat": 4,
 "nbformat_minor": 5
}
