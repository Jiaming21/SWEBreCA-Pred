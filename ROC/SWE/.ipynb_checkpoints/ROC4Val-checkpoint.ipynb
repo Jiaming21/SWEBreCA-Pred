{
 "cells": [
  {
   "cell_type": "code",
   "execution_count": 1,
   "id": "2beebad8-a3a7-41c3-8c3a-1edddf9940ea",
   "metadata": {},
   "outputs": [],
   "source": [
    "import matplotlib.pyplot as plt\n",
    "import numpy as np\n",
    "import torch\n",
    "import torch.nn as nn\n",
    "import pandas as pd\n",
    "import numpy as np\n",
    "from sklearn.model_selection import train_test_split\n",
    "from torch.utils.data import DataLoader\n",
    "import time\n",
    "from torch.utils.data import Subset\n",
    "from sklearn.metrics import roc_auc_score, accuracy_score, matthews_corrcoef, recall_score, precision_score,auc\n",
    "import time\n",
    "from sklearn.metrics import roc_curve\n",
    "import pandas as pd\n",
    "\n",
    "import statsmodels.api as sm"
   ]
  },
  {
   "cell_type": "code",
   "execution_count": 2,
   "id": "94f50cc0-8d9c-45a3-b5ca-3f5bc21139e1",
   "metadata": {},
   "outputs": [],
   "source": [
    "def plot_roc_curve(fpr, tpr, label=None, color=None):\n",
    "\n",
    "    plt.plot([0, 1], [0, 1], 'k--') \n",
    "    plt.xlim([0.0, 1.0])\n",
    "    plt.ylim([0.0, 1.2])\n",
    "    plt.xlabel('False Positive Rate (FPR)')\n",
    "    plt.ylabel('True Positive Rate (TPR)')\n",
    "    plt.title('Roc Curves under Validation Set')\n",
    "    \n",
    "    lowess = sm.nonparametric.lowess(tpr, fpr, frac=0.2)  # 调整 frac 参数以控制平滑度\n",
    "    x_fine = lowess[:, 0]\n",
    "    y_fine = lowess[:, 1]\n",
    "\n",
    "    plt.plot(x_fine, y_fine, color=color, lw=2, label=label)\n",
    "    plt.legend(loc=\"lower right\", fontsize='xx-small')"
   ]
  },
  {
   "cell_type": "code",
   "execution_count": 3,
   "id": "de62f9a7-6eaf-48b5-b84a-1aa9920f31a8",
   "metadata": {},
   "outputs": [],
   "source": [
    "# ML\n",
    "\n",
    "# XGB\n",
    "\n",
    "y_val_pred = np.load('/root/autodl-tmp/ROC/SWE/ML/XGB/y_val_pred.npy')\n",
    "y_val = np.load('/root/autodl-tmp/ROC/SWE/ML/XGB/y_val.npy') # 这里y_val指的就是y_val_label\n",
    "fpr_xgb, tpr_xgb, thresholds_xgb = roc_curve(y_val, y_val_pred)\n",
    "roc_auc_xgb = auc(fpr_xgb, tpr_xgb)\n",
    "\n",
    "# SVM\n",
    "\n",
    "y_val_pred = np.load('/root/autodl-tmp/ROC/SWE/ML/SVM/y_val_pred.npy')\n",
    "y_val = np.load('/root/autodl-tmp/ROC/SWE/ML/SVM/y_val.npy') # 这里y_val指的就是y_val_label\n",
    "fpr_svm, tpr_svm, thresholds_svm = roc_curve(y_val, y_val_pred)\n",
    "roc_auc_svm = auc(fpr_svm, tpr_svm)\n",
    "\n",
    "# RF\n",
    "\n",
    "y_val_pred = np.load('/root/autodl-tmp/ROC/SWE/ML/RF/y_val_pred.npy')\n",
    "y_val = np.load('/root/autodl-tmp/ROC/SWE/ML/RF/y_val.npy') # 这里y_val指的就是y_val_label\n",
    "fpr_rf, tpr_rf, thresholds_rf = roc_curve(y_val, y_val_pred)\n",
    "roc_auc_rf = auc(fpr_rf, tpr_rf)\n",
    "\n",
    "# NB\n",
    "\n",
    "y_val_pred = np.load('/root/autodl-tmp/ROC/SWE/ML/NB/y_val_pred.npy')\n",
    "y_val = np.load('/root/autodl-tmp/ROC/SWE/ML/NB/y_val.npy') # 这里y_val指的就是y_val_label\n",
    "fpr_nb, tpr_nb, thresholds_nb = roc_curve(y_val, y_val_pred)\n",
    "roc_auc_nb = auc(fpr_nb, tpr_nb)\n",
    "\n",
    "# LR\n",
    "\n",
    "y_val_pred = np.load('/root/autodl-tmp/ROC/SWE/ML/LR/y_val_pred.npy')\n",
    "y_val = np.load('/root/autodl-tmp/ROC/SWE/ML/LR/y_val.npy') # 这里y_val指的就是y_val_label\n",
    "fpr_lr, tpr_lr, thresholds_lr = roc_curve(y_val, y_val_pred)\n",
    "roc_auc_lr = auc(fpr_lr, tpr_lr)"
   ]
  },
  {
   "cell_type": "code",
   "execution_count": 4,
   "id": "d8047e67-6e14-4927-8f4b-4c61aa7c0a6f",
   "metadata": {},
   "outputs": [],
   "source": [
    "# AlexNet\n",
    "\n",
    "y_val_pred = np.load('/root/autodl-tmp/ROC/SWE/AlexNet/y_val_pred.npy')\n",
    "y_val = np.load('/root/autodl-tmp/ROC/SWE/AlexNet/y_val.npy') # 这里y_val指的就是y_val_label\n",
    "fpr_alexnet, tpr_alexnet, thresholds_alexnet = roc_curve(y_val, y_val_pred)\n",
    "roc_auc_alexnet = auc(fpr_alexnet, tpr_alexnet)"
   ]
  },
  {
   "cell_type": "code",
   "execution_count": 5,
   "id": "b9c8e318-0cc3-43cc-91f8-9c739b7b957c",
   "metadata": {},
   "outputs": [],
   "source": [
    "# GoogLeNet\n",
    "\n",
    "y_val_pred = np.load('/root/autodl-tmp/ROC/SWE/GoogLeNet/y_val_pred.npy')\n",
    "y_val = np.load('/root/autodl-tmp/ROC/SWE/GoogLeNet/y_val.npy') # 这里y_val指的就是y_val_label\n",
    "fpr_googlenet, tpr_googlenet, thresholds_googlenet = roc_curve(y_val, y_val_pred)\n",
    "roc_auc_googlenet = auc(fpr_googlenet, tpr_googlenet)"
   ]
  },
  {
   "cell_type": "code",
   "execution_count": 6,
   "id": "39662e5e-375f-4b9a-a213-0378b6b5bd71",
   "metadata": {},
   "outputs": [],
   "source": [
    "# ResNet-34\n",
    "\n",
    "y_val_pred = np.load('/root/autodl-tmp/ROC/SWE/ResNet-34/y_val_pred.npy')\n",
    "y_val = np.load('/root/autodl-tmp/ROC/SWE/ResNet-34/y_val.npy') # 这里y_val指的就是y_val_label\n",
    "fpr_resnet34, tpr_resnet34, thresholds_resnet34 = roc_curve(y_val, y_val_pred)\n",
    "roc_auc_resnet34 = auc(fpr_resnet34, tpr_resnet34)"
   ]
  },
  {
   "cell_type": "code",
   "execution_count": 7,
   "id": "e61476d6-c399-4108-9c7f-383dfc33db18",
   "metadata": {},
   "outputs": [],
   "source": [
    "# ResNet-50\n",
    "\n",
    "y_val_pred = np.load('/root/autodl-tmp/ROC/SWE/ResNet-50/y_val_pred.npy')\n",
    "y_val = np.load('/root/autodl-tmp/ROC/SWE/ResNet-50/y_val.npy') # 这里y_val指的就是y_val_label\n",
    "fpr_resnet50, tpr_resnet50, thresholds_resnet50 = roc_curve(y_val, y_val_pred)\n",
    "roc_auc_resnet50 = auc(fpr_resnet50, tpr_resnet50)"
   ]
  },
  {
   "cell_type": "code",
   "execution_count": 8,
   "id": "c4a5fcfa-5b32-4c64-aacf-23dddb6d8fb8",
   "metadata": {},
   "outputs": [],
   "source": [
    "# ResNet-101\n",
    "\n",
    "y_val_pred = np.load('/root/autodl-tmp/ROC/SWE/ResNet-101/y_val_pred.npy')\n",
    "y_val = np.load('/root/autodl-tmp/ROC/SWE/ResNet-101/y_val.npy') # 这里y_val指的就是y_val_label\n",
    "fpr_resnet101, tpr_resnet101, thresholds_resnet101 = roc_curve(y_val, y_val_pred)\n",
    "roc_auc_resnet101 = auc(fpr_resnet101, tpr_resnet101)"
   ]
  },
  {
   "cell_type": "code",
   "execution_count": 9,
   "id": "8822e8d3-73ac-4afb-8c73-f3cbcac68f39",
   "metadata": {},
   "outputs": [],
   "source": [
    "# ShuffleNet\n",
    "\n",
    "y_val_pred = np.load('/root/autodl-tmp/ROC/SWE/ShuffleNet/y_val_pred.npy')\n",
    "y_val = np.load('/root/autodl-tmp/ROC/SWE/ShuffleNet/y_val.npy') # 这里y_val指的就是y_val_label\n",
    "fpr_shufflenet, tpr_shufflenet, thresholds_shufflenet = roc_curve(y_val, y_val_pred)\n",
    "roc_auc_shufflenet = auc(fpr_shufflenet, tpr_shufflenet)"
   ]
  },
  {
   "cell_type": "code",
   "execution_count": 10,
   "id": "187532d2-ed0f-401d-9525-c5ec7bef431d",
   "metadata": {},
   "outputs": [],
   "source": [
    "# VisionTransformer\n",
    "\n",
    "y_val_pred = np.load('/root/autodl-tmp/ROC/SWE/ViT/y_val_pred.npy')\n",
    "y_val = np.load('/root/autodl-tmp/ROC/SWE/ViT/y_val.npy') # 这里y_val指的就是y_val_label\n",
    "fpr_visiontransformer, tpr_visiontransformer, thresholds_visiontransformer = roc_curve(y_val, y_val_pred)\n",
    "roc_auc_visiontransformer = auc(fpr_visiontransformer, tpr_visiontransformer)"
   ]
  },
  {
   "cell_type": "code",
   "execution_count": 11,
   "id": "cfda1750-2e16-4e3c-88d8-f249a6590ebe",
   "metadata": {},
   "outputs": [],
   "source": [
    "# MobileNetV2\n",
    "\n",
    "y_val_pred = np.load('/root/autodl-tmp/ROC/SWE/MobileNetV2/y_val_pred.npy')\n",
    "y_val = np.load('/root/autodl-tmp/ROC/SWE/MobileNetV2/y_val.npy') # 这里y_val指的就是y_val_label\n",
    "fpr_mobilenetv2, tpr_mobilenetv2, thresholds_mobilenetv2 = roc_curve(y_val, y_val_pred)\n",
    "roc_auc_mobilenetv2 = auc(fpr_mobilenetv2, tpr_mobilenetv2)"
   ]
  },
  {
   "cell_type": "code",
   "execution_count": 12,
   "id": "384e4689-debc-4142-a964-584b606be2c4",
   "metadata": {},
   "outputs": [],
   "source": [
    "# MobileNetV3_l\n",
    "\n",
    "y_val_pred = np.load('/root/autodl-tmp/ROC/SWE/MobileNetV3_l/y_val_pred.npy')\n",
    "y_val = np.load('/root/autodl-tmp/ROC/SWE/MobileNetV3_l/y_val.npy') # 这里y_val指的就是y_val_label\n",
    "fpr_mobilenetv3_l, tpr_mobilenetv3_l, thresholds_mobilenetv3_l = roc_curve(y_val, y_val_pred)\n",
    "roc_auc_mobilenetv3_l = auc(fpr_mobilenetv3_l, tpr_mobilenetv3_l)"
   ]
  },
  {
   "cell_type": "code",
   "execution_count": 13,
   "id": "c506ae09-814a-41a7-80b7-0ca0e0705703",
   "metadata": {},
   "outputs": [],
   "source": [
    "# MobileNetV3_s\n",
    "\n",
    "y_val_pred = np.load('/root/autodl-tmp/ROC/SWE/MobileNetV3_s/y_val_pred.npy')\n",
    "y_val = np.load('/root/autodl-tmp/ROC/SWE/MobileNetV3_s/y_val.npy') # 这里y_val指的就是y_val_label\n",
    "fpr_mobilenetv3_s, tpr_mobilenetv3_s, thresholds_mobilenetv3_s = roc_curve(y_val, y_val_pred)\n",
    "roc_auc_mobilenetv3_s = auc(fpr_mobilenetv3_s, tpr_mobilenetv3_s)"
   ]
  },
  {
   "cell_type": "code",
   "execution_count": 14,
   "id": "f5685370-3d70-4a64-ac46-1be9e25c8d7f",
   "metadata": {},
   "outputs": [],
   "source": [
    "# MobileViT_s\n",
    "\n",
    "y_val_pred = np.load('/root/autodl-tmp/ROC/SWE/MobileViT_s/y_val_pred.npy')\n",
    "y_val = np.load('/root/autodl-tmp/ROC/SWE/MobileViT_s/y_val.npy') # 这里y_val指的就是y_val_label\n",
    "fpr_mobilevit_s, tpr_mobilevit_s, thresholds_mobilevit_s = roc_curve(y_val, y_val_pred)\n",
    "roc_auc_mobilevit_s = auc(fpr_mobilevit_s, tpr_mobilevit_s)"
   ]
  },
  {
   "cell_type": "code",
   "execution_count": 15,
   "id": "c75ee323-3908-4df5-82b2-f6fcfac7b282",
   "metadata": {},
   "outputs": [],
   "source": [
    "# MobileViT_x_s\n",
    "\n",
    "y_val_pred = np.load('/root/autodl-tmp/ROC/SWE/MobileViT_x_s/y_val_pred.npy')\n",
    "y_val = np.load('/root/autodl-tmp/ROC/SWE/MobileViT_x_s/y_val.npy') # 这里y_val指的就是y_val_label\n",
    "fpr_mobilevit_x_s, tpr_mobilevit_x_s, thresholds_mobilevit_x_s = roc_curve(y_val, y_val_pred)\n",
    "roc_auc_mobilevit_x_s = auc(fpr_mobilevit_x_s, tpr_mobilevit_x_s)"
   ]
  },
  {
   "cell_type": "code",
   "execution_count": 16,
   "id": "56e651c0-0c2e-4cab-ace5-2b9f23fd26c0",
   "metadata": {},
   "outputs": [],
   "source": [
    "# MobileViT_xx_s\n",
    "\n",
    "y_val_pred = np.load('/root/autodl-tmp/ROC/SWE/MobileViT_xx_s/y_val_pred.npy')\n",
    "y_val = np.load('/root/autodl-tmp/ROC/SWE/MobileViT_xx_s/y_val.npy') # 这里y_val指的就是y_val_label\n",
    "fpr_mobilevit_xx_s, tpr_mobilevit_xx_s, thresholds_mobilevit_xx_s = roc_curve(y_val, y_val_pred)\n",
    "roc_auc_mobilevit_xx_s = auc(fpr_mobilevit_xx_s, tpr_mobilevit_xx_s)"
   ]
  },
  {
   "cell_type": "code",
   "execution_count": null,
   "id": "47ebe926-9fe3-423d-b25d-aca1c7637c8d",
   "metadata": {},
   "outputs": [
    {
     "name": "stderr",
     "output_type": "stream",
     "text": [
      "/root/miniconda3/envs/py38/lib/python3.8/site-packages/statsmodels/nonparametric/smoothers_lowess.py:227: RuntimeWarning: invalid value encountered in divide\n",
      "  res, _ = _lowess(y, x, x, np.ones_like(x),\n"
     ]
    }
   ],
   "source": [
    "plot_roc_curve(fpr_xgb, tpr_xgb, label=f'XGB (AUC = {roc_auc_xgb:.4f})', color='b')\n",
    "plot_roc_curve(fpr_svm, tpr_svm, label=f'SVM (AUC = {roc_auc_svm:.4f})', color='g')\n",
    "plot_roc_curve(fpr_rf, tpr_rf, label=f'RF (AUC = {roc_auc_rf:.4f})', color='r')\n",
    "# plot_roc_curve(fpr_nb, tpr_nb, label=f'NB (AUC = {roc_auc_nb:.4f})', color='c')\n",
    "plot_roc_curve(fpr_lr, tpr_lr, label=f'LR (AUC = {roc_auc_lr:.4f})', color='m')\n",
    "\n",
    "plot_roc_curve(fpr_alexnet, tpr_alexnet, label=f'AlexNet (AUC = {roc_auc_alexnet:.4f})', color='y')\n",
    "plot_roc_curve(fpr_googlenet, tpr_googlenet, label=f'GoogLeNet (AUC = {roc_auc_googlenet:.4f})', color='b')\n",
    "plot_roc_curve(fpr_shufflenet, tpr_shufflenet, label=f'ShuffleNet (AUC = {roc_auc_shufflenet:.4f})', color='m')\n",
    "plot_roc_curve(fpr_visiontransformer, tpr_visiontransformer, label=f'ViT (AUC = {roc_auc_visiontransformer:.4f})', color='y')\n",
    "\n",
    "plot_roc_curve(fpr_resnet34, tpr_resnet34, label=f'ResNet-34 (AUC = {roc_auc_resnet34:.4f})', color='g')\n",
    "plot_roc_curve(fpr_resnet50, tpr_resnet50, label=f'ResNet-50 (AUC = {roc_auc_resnet50:.4f})', color='r')\n",
    "plot_roc_curve(fpr_resnet101, tpr_resnet101, label=f'ResNet-101 (AUC = {roc_auc_resnet101:.4f})', color='c')\n",
    "\n",
    "plot_roc_curve(fpr_mobilenetv2, tpr_mobilenetv2, label=f'MobileNetV2 (AUC = {roc_auc_mobilenetv2:.4f})', color='g')\n",
    "plot_roc_curve(fpr_mobilenetv3_l, tpr_mobilenetv3_l, label=f'MobileNetV3_l (AUC = {roc_auc_mobilenetv3_l:.4f})', color='r')\n",
    "plot_roc_curve(fpr_mobilenetv3_s, tpr_mobilenetv3_s, label=f'MobileNetV3_s (AUC = {roc_auc_mobilenetv3_s:.4f})', color='c')\n",
    "\n",
    "plot_roc_curve(fpr_mobilevit_s, tpr_mobilevit_s, label=f'MobileViT_s (AUC = {roc_auc_mobilevit_s:.4f})', color='m')\n",
    "plot_roc_curve(fpr_mobilevit_x_s, tpr_mobilevit_x_s, label=f'MobileViT_x_s (AUC = {roc_auc_mobilevit_x_s:.4f})', color='y')\n",
    "plot_roc_curve(fpr_mobilevit_xx_s, tpr_mobilevit_xx_s, label=f'MobileViT_xx_s (AUC = {roc_auc_mobilevit_xx_s:.4f})', color='y')\n",
    "\n",
    "plt.savefig('/root/autodl-tmp/ROC/SWE/ROC4val.pdf', format='pdf')\n",
    "plt.show()"
   ]
  },
  {
   "cell_type": "code",
   "execution_count": null,
   "id": "c5b6845c-c8b1-47be-b39b-50e7930aa311",
   "metadata": {},
   "outputs": [],
   "source": [
    "# save in a table for R to generate smooth ROC curve\n",
    "y_val_pred1 = np.load('/root/autodl-tmp/ROC/SWE/ML/XGB/y_val_pred.npy')\n",
    "y_val_pred2 = np.load('/root/autodl-tmp/ROC/SWE/ML/SVM/y_val_pred.npy')\n",
    "y_val_pred3 = np.load('/root/autodl-tmp/ROC/SWE/ML/RF/y_val_pred.npy')\n",
    "y_val_pred4 = np.load('/root/autodl-tmp/ROC/SWE/ML/NB/y_val_pred.npy')\n",
    "y_val_pred5 = np.load('/root/autodl-tmp/ROC/SWE/ML/LR/y_val_pred.npy')\n",
    "\n",
    "y_val_pred6 = np.load('/root/autodl-tmp/ROC/SWE/AlexNet/y_val_pred.npy')\n",
    "y_val_pred7 = np.load('/root/autodl-tmp/ROC/SWE/GoogLeNet/y_val_pred.npy')\n",
    "y_val_pred8 = np.load('/root/autodl-tmp/ROC/SWE/ShuffleNet/y_val_pred.npy')\n",
    "y_val_pred9 = np.load('/root/autodl-tmp/ROC/SWE/ViT/y_val_pred.npy')\n",
    "\n",
    "y_val_pred10 = np.load('/root/autodl-tmp/ROC/SWE/ResNet-34/y_val_pred.npy')\n",
    "y_val_pred11 = np.load('/root/autodl-tmp/ROC/SWE/ResNet-50/y_val_pred.npy')\n",
    "y_val_pred12 = np.load('/root/autodl-tmp/ROC/SWE/ResNet-101/y_val_pred.npy')\n",
    "\n",
    "y_val_pred13 = np.load('/root/autodl-tmp/ROC/SWE/MobileNetV2/y_val_pred.npy')\n",
    "y_val_pred14 = np.load('/root/autodl-tmp/ROC/SWE/MobileNetV3_l/y_val_pred.npy')\n",
    "y_val_pred15 = np.load('/root/autodl-tmp/ROC/SWE/MobileNetV3_s/y_val_pred.npy')\n",
    "\n",
    "y_val_pred16 = np.load('/root/autodl-tmp/ROC/SWE/MobileViT_s/y_val_pred.npy')\n",
    "y_val_pred17 = np.load('/root/autodl-tmp/ROC/SWE/MobileViT_x_s/y_val_pred.npy')\n",
    "y_val_pred18 = np.load('/root/autodl-tmp/ROC/SWE/MobileViT_xx_s/y_val_pred.npy')\n",
    "\n",
    "y_val = np.load('/root/autodl-tmp/ROC/SWE/ResNet-34/y_val.npy')\n",
    "\n",
    "data = np.column_stack((y_val, y_val_pred1, y_val_pred2, y_val_pred3, y_val_pred4, y_val_pred5, y_val_pred6, y_val_pred7, y_val_pred8, y_val_pred9, y_val_pred10, y_val_pred11, y_val_pred12, y_val_pred13, y_val_pred14, y_val_pred15, y_val_pred16, y_val_pred17, y_val_pred18))\n",
    "\n",
    "np.savetxt('SWE_ROC4Val.csv', \n",
    "           data,\n",
    "           delimiter=',',\n",
    "           header='y, XGB, SVM, RF, NB, LR, AlexNet, GoogLeNet, ShuffleNet, ViT, ResNet34, ResNet50, ResNet101, MobileNetV2, MobileNetV3_l, MobileNetV3_s, MobileViT_s, MobileViT_x_s, MobileViT_xx_s',\n",
    "           comments='')"
   ]
  },
  {
   "cell_type": "code",
   "execution_count": null,
   "id": "77d9a3de-5520-4323-bb1d-bcdd593ef6ef",
   "metadata": {},
   "outputs": [],
   "source": []
  },
  {
   "cell_type": "code",
   "execution_count": null,
   "id": "17f5e021-625f-4cd0-b736-4408f6b1d56b",
   "metadata": {},
   "outputs": [],
   "source": []
  }
 ],
 "metadata": {
  "kernelspec": {
   "display_name": "py38",
   "language": "python",
   "name": "py38"
  },
  "language_info": {
   "codemirror_mode": {
    "name": "ipython",
    "version": 3
   },
   "file_extension": ".py",
   "mimetype": "text/x-python",
   "name": "python",
   "nbconvert_exporter": "python",
   "pygments_lexer": "ipython3",
   "version": "3.8.19"
  }
 },
 "nbformat": 4,
 "nbformat_minor": 5
}
