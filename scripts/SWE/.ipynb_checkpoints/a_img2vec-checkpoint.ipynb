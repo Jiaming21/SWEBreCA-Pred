{
 "cells": [
  {
   "cell_type": "code",
   "execution_count": 6,
   "id": "1cad6708-a3ae-4e12-8271-aacb8c4009ba",
   "metadata": {},
   "outputs": [],
   "source": [
    "import torch\n",
    "import torchvision.transforms as transforms\n",
    "from PIL import Image\n",
    "import cv2\n",
    "import numpy as np\n",
    "import os"
   ]
  },
  {
   "cell_type": "code",
   "execution_count": 7,
   "id": "cf229a3c-2294-4b06-993d-9152c0a51e78",
   "metadata": {},
   "outputs": [],
   "source": [
    "# the file path of the images\n",
    "image_folder = '/root/autodl-tmp/imgs/SWE/benign/'\n",
    "# image_folder = '/root/autodl-tmp/imgs/SWE/malignant/'"
   ]
  },
  {
   "cell_type": "code",
   "execution_count": 8,
   "id": "6b86f636-a922-46ac-bf23-e2b3adbef5a3",
   "metadata": {},
   "outputs": [],
   "source": [
    "# read all the images in the file\n",
    "image_files = [f for f in os.listdir(image_folder) if f.endswith(('.png', '.jpg', '.jpeg'))]"
   ]
  },
  {
   "cell_type": "code",
   "execution_count": 9,
   "id": "71c308df-7237-49c7-a97b-ba870584d0cf",
   "metadata": {},
   "outputs": [
    {
     "name": "stdout",
     "output_type": "stream",
     "text": [
      "(204, 3, 224, 224)\n"
     ]
    }
   ],
   "source": [
    "# create an empty list to store all processed image array\n",
    "image_arrays = []\n",
    "\n",
    "for image_file in image_files:\n",
    "    # read each image\n",
    "    image_path = os.path.join(image_folder, image_file)\n",
    "    image = cv2.imread(image_path)\n",
    "    # transform image BGR to RGB\n",
    "    image = cv2.cvtColor(image, cv2.COLOR_BGR2RGB)\n",
    "    # blur the image\n",
    "    blurred_image = cv2.GaussianBlur(image, (5, 5), 0)\n",
    "    # resize into 224 * 224\n",
    "    resized_image = cv2.resize(blurred_image, (224, 224), interpolation=cv2.INTER_LINEAR)\n",
    "    # add handled image into list\n",
    "    image_arrays.append(resized_image)\n",
    "\n",
    "# connect all images along the first dimension\n",
    "images_stack = np.concatenate([np.expand_dims(img, axis=0) for img in image_arrays], axis=0)\n",
    "images_stack = images_stack.transpose(0, 3, 1, 2)\n",
    "\n",
    "print(images_stack.shape)  # the shape should be [N, 3, 224, 224]"
   ]
  },
  {
   "cell_type": "code",
   "execution_count": 10,
   "id": "f53b3474-f7b9-40d8-97d4-8a4827e6ede4",
   "metadata": {},
   "outputs": [
    {
     "name": "stdout",
     "output_type": "stream",
     "text": [
      "Processed images saved to /root/autodl-tmp/imgs/SWE/SWE_benign_204.npy\n"
     ]
    }
   ],
   "source": [
    "# save handled array into npy file\n",
    "save_path = '/root/autodl-tmp/imgs/SWE/SWE_benign_204.npy'\n",
    "# save_path = '/root/autodl-tmp/imgs/SWE/SWE_malignant_222.npy'\n",
    "np.save(save_path, images_stack)\n",
    "print(f\"Processed images saved to {save_path}\")"
   ]
  },
  {
   "cell_type": "code",
   "execution_count": null,
   "id": "24837b26-9158-41b8-9a19-0a58b1f38dca",
   "metadata": {},
   "outputs": [],
   "source": []
  },
  {
   "cell_type": "code",
   "execution_count": null,
   "id": "0eb8cde4-b78e-44a1-82b6-13e13811e92b",
   "metadata": {},
   "outputs": [],
   "source": []
  }
 ],
 "metadata": {
  "kernelspec": {
   "display_name": "py38",
   "language": "python",
   "name": "py38"
  },
  "language_info": {
   "codemirror_mode": {
    "name": "ipython",
    "version": 3
   },
   "file_extension": ".py",
   "mimetype": "text/x-python",
   "name": "python",
   "nbconvert_exporter": "python",
   "pygments_lexer": "ipython3",
   "version": "3.8.19"
  }
 },
 "nbformat": 4,
 "nbformat_minor": 5
}
