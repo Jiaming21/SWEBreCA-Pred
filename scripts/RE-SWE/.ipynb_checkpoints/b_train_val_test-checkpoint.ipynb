{
 "cells": [
  {
   "cell_type": "code",
   "execution_count": 2,
   "id": "6fd60562-27b3-46fb-9c5a-83bc0c4d00ac",
   "metadata": {},
   "outputs": [],
   "source": [
    "import numpy as np\n",
    "import pandas as pd\n",
    "import torch\n",
    "import torch.nn as nn\n",
    "import torch.optim as optim\n",
    "from sklearn.model_selection import train_test_split\n",
    "from sklearn.metrics import roc_auc_score, accuracy_score, matthews_corrcoef, recall_score, precision_score\n",
    "from sklearn.metrics import confusion_matrix, f1_score\n",
    "from torch.utils.data import TensorDataset, random_split, DataLoader\n",
    "import matplotlib.pyplot as plt\n",
    "import math"
   ]
  },
  {
   "cell_type": "code",
   "execution_count": 5,
   "id": "9511756a-5611-46bc-9538-e8e86f2a331e",
   "metadata": {},
   "outputs": [],
   "source": [
    "pos = np.load('/root/autodl-tmp/imgs/RE-SWE/RE-SWE_benign_204.npy')[0:199,:,:,:]\n",
    "neg = np.load('/root/autodl-tmp/imgs/RE-SWE/RE-SWE_malignant_222.npy')[0:199,:,:,:]"
   ]
  },
  {
   "cell_type": "code",
   "execution_count": 6,
   "id": "1f1807a4-e504-4783-9afd-7851b0bcb5e7",
   "metadata": {},
   "outputs": [],
   "source": [
    "datas = np.concatenate((pos, neg), axis = 0)\n",
    "labels = np.concatenate(([1] * pos.shape[0], [0] * neg.shape[0]), axis = 0)\n",
    "labels = np.expand_dims(labels, -1)\n",
    "datas_tensor = torch.tensor(datas, dtype=torch.float32)\n",
    "labels_tensor = torch.tensor(labels, dtype=torch.float32)\n",
    "dataset = TensorDataset(datas_tensor, labels_tensor)\n",
    "big_train_size = int(0.8 * len(dataset))\n",
    "train_size = int(0.8 * big_train_size)\n",
    "val_size = big_train_size - train_size\n",
    "test_size = len(dataset) - big_train_size \n",
    "train_dataset, val_dataset, test_dataset = random_split(dataset, [train_size, val_size, test_size])"
   ]
  },
  {
   "cell_type": "code",
   "execution_count": 7,
   "id": "852c1c18-aab1-421a-a005-a16b6036ed4a",
   "metadata": {},
   "outputs": [],
   "source": [
    "torch.save({\n",
    "    'train_dataset': train_dataset,  \n",
    "    'val_dataset': val_dataset,\n",
    "    'test_dataset': test_dataset\n",
    "}, '/root/autodl-tmp/imgs/RE-SWE/saved_datasets_RE-SWE.pth')"
   ]
  },
  {
   "cell_type": "code",
   "execution_count": null,
   "id": "9922c977-46d1-45e3-b0be-b6c37eb85816",
   "metadata": {},
   "outputs": [],
   "source": []
  },
  {
   "cell_type": "code",
   "execution_count": null,
   "id": "f7f7a2b7-48a8-42f4-a16d-1951ed47c325",
   "metadata": {},
   "outputs": [],
   "source": []
  }
 ],
 "metadata": {
  "kernelspec": {
   "display_name": "py38",
   "language": "python",
   "name": "py38"
  },
  "language_info": {
   "codemirror_mode": {
    "name": "ipython",
    "version": 3
   },
   "file_extension": ".py",
   "mimetype": "text/x-python",
   "name": "python",
   "nbconvert_exporter": "python",
   "pygments_lexer": "ipython3",
   "version": "3.8.19"
  }
 },
 "nbformat": 4,
 "nbformat_minor": 5
}
